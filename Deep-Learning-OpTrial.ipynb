{
 "cells": [
  {
   "cell_type": "code",
   "execution_count": 61,
   "metadata": {},
   "outputs": [
    {
     "data": {
      "text/html": [
       "<div>\n",
       "<style scoped>\n",
       "    .dataframe tbody tr th:only-of-type {\n",
       "        vertical-align: middle;\n",
       "    }\n",
       "\n",
       "    .dataframe tbody tr th {\n",
       "        vertical-align: top;\n",
       "    }\n",
       "\n",
       "    .dataframe thead th {\n",
       "        text-align: right;\n",
       "    }\n",
       "</style>\n",
       "<table border=\"1\" class=\"dataframe\">\n",
       "  <thead>\n",
       "    <tr style=\"text-align: right;\">\n",
       "      <th></th>\n",
       "      <th>EIN</th>\n",
       "      <th>NAME</th>\n",
       "      <th>APPLICATION_TYPE</th>\n",
       "      <th>AFFILIATION</th>\n",
       "      <th>CLASSIFICATION</th>\n",
       "      <th>USE_CASE</th>\n",
       "      <th>ORGANIZATION</th>\n",
       "      <th>STATUS</th>\n",
       "      <th>INCOME_AMT</th>\n",
       "      <th>SPECIAL_CONSIDERATIONS</th>\n",
       "      <th>ASK_AMT</th>\n",
       "      <th>IS_SUCCESSFUL</th>\n",
       "    </tr>\n",
       "  </thead>\n",
       "  <tbody>\n",
       "    <tr>\n",
       "      <th>0</th>\n",
       "      <td>10520599</td>\n",
       "      <td>BLUE KNIGHTS MOTORCYCLE CLUB</td>\n",
       "      <td>T10</td>\n",
       "      <td>Independent</td>\n",
       "      <td>C1000</td>\n",
       "      <td>ProductDev</td>\n",
       "      <td>Association</td>\n",
       "      <td>1</td>\n",
       "      <td>0</td>\n",
       "      <td>N</td>\n",
       "      <td>5000</td>\n",
       "      <td>1</td>\n",
       "    </tr>\n",
       "    <tr>\n",
       "      <th>1</th>\n",
       "      <td>10531628</td>\n",
       "      <td>AMERICAN CHESAPEAKE CLUB CHARITABLE TR</td>\n",
       "      <td>T3</td>\n",
       "      <td>Independent</td>\n",
       "      <td>C2000</td>\n",
       "      <td>Preservation</td>\n",
       "      <td>Co-operative</td>\n",
       "      <td>1</td>\n",
       "      <td>1-9999</td>\n",
       "      <td>N</td>\n",
       "      <td>108590</td>\n",
       "      <td>1</td>\n",
       "    </tr>\n",
       "    <tr>\n",
       "      <th>2</th>\n",
       "      <td>10547893</td>\n",
       "      <td>ST CLOUD PROFESSIONAL FIREFIGHTERS</td>\n",
       "      <td>T5</td>\n",
       "      <td>CompanySponsored</td>\n",
       "      <td>C3000</td>\n",
       "      <td>ProductDev</td>\n",
       "      <td>Association</td>\n",
       "      <td>1</td>\n",
       "      <td>0</td>\n",
       "      <td>N</td>\n",
       "      <td>5000</td>\n",
       "      <td>0</td>\n",
       "    </tr>\n",
       "    <tr>\n",
       "      <th>3</th>\n",
       "      <td>10553066</td>\n",
       "      <td>SOUTHSIDE ATHLETIC ASSOCIATION</td>\n",
       "      <td>T3</td>\n",
       "      <td>CompanySponsored</td>\n",
       "      <td>C2000</td>\n",
       "      <td>Preservation</td>\n",
       "      <td>Trust</td>\n",
       "      <td>1</td>\n",
       "      <td>10000-24999</td>\n",
       "      <td>N</td>\n",
       "      <td>6692</td>\n",
       "      <td>1</td>\n",
       "    </tr>\n",
       "    <tr>\n",
       "      <th>4</th>\n",
       "      <td>10556103</td>\n",
       "      <td>GENETIC RESEARCH INSTITUTE OF THE DESERT</td>\n",
       "      <td>T3</td>\n",
       "      <td>Independent</td>\n",
       "      <td>C1000</td>\n",
       "      <td>Heathcare</td>\n",
       "      <td>Trust</td>\n",
       "      <td>1</td>\n",
       "      <td>100000-499999</td>\n",
       "      <td>N</td>\n",
       "      <td>142590</td>\n",
       "      <td>1</td>\n",
       "    </tr>\n",
       "  </tbody>\n",
       "</table>\n",
       "</div>"
      ],
      "text/plain": [
       "        EIN                                      NAME APPLICATION_TYPE  \\\n",
       "0  10520599              BLUE KNIGHTS MOTORCYCLE CLUB              T10   \n",
       "1  10531628    AMERICAN CHESAPEAKE CLUB CHARITABLE TR               T3   \n",
       "2  10547893        ST CLOUD PROFESSIONAL FIREFIGHTERS               T5   \n",
       "3  10553066            SOUTHSIDE ATHLETIC ASSOCIATION               T3   \n",
       "4  10556103  GENETIC RESEARCH INSTITUTE OF THE DESERT               T3   \n",
       "\n",
       "        AFFILIATION CLASSIFICATION      USE_CASE  ORGANIZATION  STATUS  \\\n",
       "0       Independent          C1000    ProductDev   Association       1   \n",
       "1       Independent          C2000  Preservation  Co-operative       1   \n",
       "2  CompanySponsored          C3000    ProductDev   Association       1   \n",
       "3  CompanySponsored          C2000  Preservation         Trust       1   \n",
       "4       Independent          C1000     Heathcare         Trust       1   \n",
       "\n",
       "      INCOME_AMT SPECIAL_CONSIDERATIONS  ASK_AMT  IS_SUCCESSFUL  \n",
       "0              0                      N     5000              1  \n",
       "1         1-9999                      N   108590              1  \n",
       "2              0                      N     5000              0  \n",
       "3    10000-24999                      N     6692              1  \n",
       "4  100000-499999                      N   142590              1  "
      ]
     },
     "execution_count": 61,
     "metadata": {},
     "output_type": "execute_result"
    }
   ],
   "source": [
    "# Import our dependencies\n",
    "from sklearn.model_selection import train_test_split\n",
    "from sklearn.preprocessing import StandardScaler\n",
    "import pandas as pd\n",
    "import numpy as np\n",
    "import tensorflow as tf\n",
    "\n",
    "#  Import and read the charity_data.csv.\n",
    "application_df = pd.read_csv(\"https://static.bc-edx.com/data/dla-1-2/m21/lms/starter/charity_data.csv\")\n",
    "application_df.head()"
   ]
  },
  {
   "cell_type": "code",
   "execution_count": 62,
   "metadata": {},
   "outputs": [],
   "source": [
    "#Identify the target and feature variables \n",
    "target_variables = application_df['IS_SUCCESSFUL']\n",
    "feature_variables = application_df.loc[:, ~application_df.columns.isin(['IS_SUCCESSFUL', 'EIN', 'NAME'])]"
   ]
  },
  {
   "cell_type": "code",
   "execution_count": 63,
   "metadata": {},
   "outputs": [
    {
     "data": {
      "text/html": [
       "<div>\n",
       "<style scoped>\n",
       "    .dataframe tbody tr th:only-of-type {\n",
       "        vertical-align: middle;\n",
       "    }\n",
       "\n",
       "    .dataframe tbody tr th {\n",
       "        vertical-align: top;\n",
       "    }\n",
       "\n",
       "    .dataframe thead th {\n",
       "        text-align: right;\n",
       "    }\n",
       "</style>\n",
       "<table border=\"1\" class=\"dataframe\">\n",
       "  <thead>\n",
       "    <tr style=\"text-align: right;\">\n",
       "      <th></th>\n",
       "      <th>APPLICATION_TYPE</th>\n",
       "      <th>AFFILIATION</th>\n",
       "      <th>CLASSIFICATION</th>\n",
       "      <th>USE_CASE</th>\n",
       "      <th>STATUS</th>\n",
       "      <th>INCOME_AMT</th>\n",
       "      <th>SPECIAL_CONSIDERATIONS</th>\n",
       "      <th>ASK_AMT</th>\n",
       "      <th>IS_SUCCESSFUL</th>\n",
       "    </tr>\n",
       "  </thead>\n",
       "  <tbody>\n",
       "    <tr>\n",
       "      <th>0</th>\n",
       "      <td>T10</td>\n",
       "      <td>Independent</td>\n",
       "      <td>C1000</td>\n",
       "      <td>ProductDev</td>\n",
       "      <td>1</td>\n",
       "      <td>0</td>\n",
       "      <td>N</td>\n",
       "      <td>5000</td>\n",
       "      <td>1</td>\n",
       "    </tr>\n",
       "    <tr>\n",
       "      <th>1</th>\n",
       "      <td>T3</td>\n",
       "      <td>Independent</td>\n",
       "      <td>C2000</td>\n",
       "      <td>Preservation</td>\n",
       "      <td>1</td>\n",
       "      <td>1-9999</td>\n",
       "      <td>N</td>\n",
       "      <td>108590</td>\n",
       "      <td>1</td>\n",
       "    </tr>\n",
       "    <tr>\n",
       "      <th>2</th>\n",
       "      <td>T5</td>\n",
       "      <td>CompanySponsored</td>\n",
       "      <td>C3000</td>\n",
       "      <td>ProductDev</td>\n",
       "      <td>1</td>\n",
       "      <td>0</td>\n",
       "      <td>N</td>\n",
       "      <td>5000</td>\n",
       "      <td>0</td>\n",
       "    </tr>\n",
       "    <tr>\n",
       "      <th>3</th>\n",
       "      <td>T3</td>\n",
       "      <td>CompanySponsored</td>\n",
       "      <td>C2000</td>\n",
       "      <td>Preservation</td>\n",
       "      <td>1</td>\n",
       "      <td>10000-24999</td>\n",
       "      <td>N</td>\n",
       "      <td>6692</td>\n",
       "      <td>1</td>\n",
       "    </tr>\n",
       "    <tr>\n",
       "      <th>4</th>\n",
       "      <td>T3</td>\n",
       "      <td>Independent</td>\n",
       "      <td>C1000</td>\n",
       "      <td>Heathcare</td>\n",
       "      <td>1</td>\n",
       "      <td>100000-499999</td>\n",
       "      <td>N</td>\n",
       "      <td>142590</td>\n",
       "      <td>1</td>\n",
       "    </tr>\n",
       "  </tbody>\n",
       "</table>\n",
       "</div>"
      ],
      "text/plain": [
       "  APPLICATION_TYPE       AFFILIATION CLASSIFICATION      USE_CASE  STATUS  \\\n",
       "0              T10       Independent          C1000    ProductDev       1   \n",
       "1               T3       Independent          C2000  Preservation       1   \n",
       "2               T5  CompanySponsored          C3000    ProductDev       1   \n",
       "3               T3  CompanySponsored          C2000  Preservation       1   \n",
       "4               T3       Independent          C1000     Heathcare       1   \n",
       "\n",
       "      INCOME_AMT SPECIAL_CONSIDERATIONS  ASK_AMT  IS_SUCCESSFUL  \n",
       "0              0                      N     5000              1  \n",
       "1         1-9999                      N   108590              1  \n",
       "2              0                      N     5000              0  \n",
       "3    10000-24999                      N     6692              1  \n",
       "4  100000-499999                      N   142590              1  "
      ]
     },
     "execution_count": 63,
     "metadata": {},
     "output_type": "execute_result"
    }
   ],
   "source": [
    "# Drop the non-beneficial ID columns, 'EIN' and 'NAME'.\n",
    "application_df = application_df.drop(columns=['EIN', 'NAME', 'ORGANIZATION'])\n",
    "application_df.head()\n"
   ]
  },
  {
   "cell_type": "code",
   "execution_count": 64,
   "metadata": {},
   "outputs": [
    {
     "data": {
      "text/plain": [
       "APPLICATION_TYPE            17\n",
       "AFFILIATION                  6\n",
       "CLASSIFICATION              71\n",
       "USE_CASE                     5\n",
       "STATUS                       2\n",
       "INCOME_AMT                   9\n",
       "SPECIAL_CONSIDERATIONS       2\n",
       "ASK_AMT                   8747\n",
       "IS_SUCCESSFUL                2\n",
       "dtype: int64"
      ]
     },
     "execution_count": 64,
     "metadata": {},
     "output_type": "execute_result"
    }
   ],
   "source": [
    "# Determine the number of unique values in each column.\n",
    "application_df.nunique()"
   ]
  },
  {
   "cell_type": "code",
   "execution_count": 65,
   "metadata": {},
   "outputs": [
    {
     "data": {
      "text/plain": [
       "APPLICATION_TYPE\n",
       "T3     27037\n",
       "T4      1542\n",
       "T6      1216\n",
       "T5      1173\n",
       "T19     1065\n",
       "T8       737\n",
       "T7       725\n",
       "T10      528\n",
       "T9       156\n",
       "T13       66\n",
       "T12       27\n",
       "T2        16\n",
       "T25        3\n",
       "T14        3\n",
       "T29        2\n",
       "T15        2\n",
       "T17        1\n",
       "Name: count, dtype: int64"
      ]
     },
     "execution_count": 65,
     "metadata": {},
     "output_type": "execute_result"
    }
   ],
   "source": [
    "# Look at APPLICATION_TYPE value counts to identify and replace with \"Other\"\n",
    "application_df['APPLICATION_TYPE'].value_counts()"
   ]
  },
  {
   "cell_type": "code",
   "execution_count": 66,
   "metadata": {},
   "outputs": [
    {
     "data": {
      "text/plain": [
       "APPLICATION_TYPE\n",
       "T3       27037\n",
       "T4        1542\n",
       "T6        1216\n",
       "T5        1173\n",
       "T19       1065\n",
       "T8         737\n",
       "T7         725\n",
       "T10        528\n",
       "Other      276\n",
       "Name: count, dtype: int64"
      ]
     },
     "execution_count": 66,
     "metadata": {},
     "output_type": "execute_result"
    }
   ],
   "source": [
    "# Choose a cutoff value and create a list of application types to be replaced\n",
    "# use the variable name `application_types_to_replace`\n",
    "application_types_to_replace = ['T9', 'T13', 'T12', 'T2', 'T25', 'T14', 'T29', 'T15', 'T17']\n",
    "\n",
    "# Replace in dataframe\n",
    "for app in application_types_to_replace:\n",
    "    application_df['APPLICATION_TYPE'] = application_df['APPLICATION_TYPE'].replace(app,\"Other\")\n",
    "\n",
    "# Check to make sure replacement was successful\n",
    "application_df['APPLICATION_TYPE'].value_counts()"
   ]
  },
  {
   "cell_type": "code",
   "execution_count": 67,
   "metadata": {},
   "outputs": [
    {
     "data": {
      "text/plain": [
       "CLASSIFICATION\n",
       "C1000    17326\n",
       "C2000     6074\n",
       "C1200     4837\n",
       "C3000     1918\n",
       "C2100     1883\n",
       "         ...  \n",
       "C4120        1\n",
       "C8210        1\n",
       "C2561        1\n",
       "C4500        1\n",
       "C2150        1\n",
       "Name: count, Length: 71, dtype: int64"
      ]
     },
     "execution_count": 67,
     "metadata": {},
     "output_type": "execute_result"
    }
   ],
   "source": [
    "# Look at CLASSIFICATION value counts to identify and replace with \"Other\"\n",
    "application_df['CLASSIFICATION'].value_counts()"
   ]
  },
  {
   "cell_type": "code",
   "execution_count": 68,
   "metadata": {},
   "outputs": [
    {
     "data": {
      "text/plain": [
       "CLASSIFICATION\n",
       "C1000    17326\n",
       "C2000     6074\n",
       "C1200     4837\n",
       "C3000     1918\n",
       "C2100     1883\n",
       "C7000      777\n",
       "C1700      287\n",
       "C4000      194\n",
       "C5000      116\n",
       "C1270      114\n",
       "C2700      104\n",
       "C2800       95\n",
       "C7100       75\n",
       "C1300       58\n",
       "C1280       50\n",
       "C1230       36\n",
       "C1400       34\n",
       "C7200       32\n",
       "C2300       32\n",
       "C1240       30\n",
       "C8000       20\n",
       "C7120       18\n",
       "C1500       16\n",
       "C1800       15\n",
       "C6000       15\n",
       "C1250       14\n",
       "C8200       11\n",
       "C1238       10\n",
       "C1278       10\n",
       "C1235        9\n",
       "C1237        9\n",
       "C7210        7\n",
       "C2400        6\n",
       "C1720        6\n",
       "C4100        6\n",
       "C1257        5\n",
       "C1600        5\n",
       "C1260        3\n",
       "C2710        3\n",
       "C0           3\n",
       "C3200        2\n",
       "C1234        2\n",
       "C1246        2\n",
       "C1267        2\n",
       "C1256        2\n",
       "Name: count, dtype: int64"
      ]
     },
     "execution_count": 68,
     "metadata": {},
     "output_type": "execute_result"
    }
   ],
   "source": [
    "# You may find it helpful to look at CLASSIFICATION value counts >1\n",
    "application_df['CLASSIFICATION'].value_counts()[(application_df['CLASSIFICATION'].value_counts() > 1)]"
   ]
  },
  {
   "cell_type": "code",
   "execution_count": 69,
   "metadata": {},
   "outputs": [
    {
     "data": {
      "text/plain": [
       "CLASSIFICATION\n",
       "C1000    17326\n",
       "C2000     6074\n",
       "C1200     4837\n",
       "C3000     1918\n",
       "C2100     1883\n",
       "C7000      777\n",
       "Other      499\n",
       "C1700      287\n",
       "C4000      194\n",
       "C5000      116\n",
       "C1270      114\n",
       "C2700      104\n",
       "C2800       95\n",
       "C7100       75\n",
       "Name: count, dtype: int64"
      ]
     },
     "execution_count": 69,
     "metadata": {},
     "output_type": "execute_result"
    }
   ],
   "source": [
    "# Choose a cutoff value and create a list of classifications to be replaced\n",
    "# use the variable name `classifications_to_replace`\n",
    "classifications_to_replace = pd.DataFrame(application_df['CLASSIFICATION'].value_counts()[(application_df['CLASSIFICATION'].value_counts() <= 70)]).index.to_list()\n",
    "\n",
    "# Replace in dataframe\n",
    "for cls in classifications_to_replace:\n",
    "    application_df['CLASSIFICATION'] = application_df['CLASSIFICATION'].replace(cls,\"Other\")\n",
    "\n",
    "# Check to make sure replacement was successful\n",
    "application_df['CLASSIFICATION'].value_counts()"
   ]
  },
  {
   "cell_type": "code",
   "execution_count": 70,
   "metadata": {},
   "outputs": [],
   "source": [
    "# Convert categorical data to numeric with `pd.get_dummies`\n",
    "application_df = pd.get_dummies(application_df)"
   ]
  },
  {
   "cell_type": "code",
   "execution_count": 71,
   "metadata": {},
   "outputs": [],
   "source": [
    "# Split our preprocessed data into our features and target arrays\n",
    "target_array = application_df['IS_SUCCESSFUL']\n",
    "feature_array = application_df.loc[:, ~application_df.columns.isin(['IS_SUCCESSFUL'])].values\n",
    "\n",
    "# Split the preprocessed data into a training and testing dataset\n",
    "X_train, X_test, y_train, y_test = train_test_split(feature_array, target_array, train_size=0.7, random_state=42)"
   ]
  },
  {
   "cell_type": "code",
   "execution_count": 72,
   "metadata": {},
   "outputs": [],
   "source": [
    "# Create a StandardScaler instances\n",
    "scaler = StandardScaler()\n",
    "\n",
    "# Fit the StandardScaler\n",
    "X_scaler = scaler.fit(X_train)\n",
    "\n",
    "# Scale the data\n",
    "X_train_scaled = X_scaler.transform(X_train)\n",
    "X_test_scaled = X_scaler.transform(X_test)"
   ]
  },
  {
   "cell_type": "code",
   "execution_count": 73,
   "metadata": {},
   "outputs": [],
   "source": [
    "# Add additional libraries to optimize model construction\n",
    "from tensorflow.keras import layers, regularizers, callbacks\n",
    "from sklearn.model_selection import KFold\n",
    "from imblearn.over_sampling import SMOTE"
   ]
  },
  {
   "cell_type": "code",
   "execution_count": 74,
   "metadata": {},
   "outputs": [],
   "source": [
    "# Apply SMOTE to handle any class imbalance\n",
    "smote = SMOTE(random_state=42)\n",
    "X_resampled, y_resampled = smote.fit_resample(X_train_scaled, y_train)"
   ]
  },
  {
   "cell_type": "code",
   "execution_count": 75,
   "metadata": {},
   "outputs": [],
   "source": [
    "# Define the model with added regularization and increased complexity\n",
    "def create_model():\n",
    "    model = tf.keras.Sequential([\n",
    "        layers.Dense(128, input_dim=X_resampled.shape[1], activation='relu', kernel_regularizer=regularizers.l2(0.003)),\n",
    "        layers.BatchNormalization(),\n",
    "        layers.Dropout(0.4),\n",
    "        layers.Dense(64, activation='relu', kernel_regularizer=regularizers.l2(0.003)),\n",
    "        layers.BatchNormalization(),\n",
    "        layers.Dropout(0.4),\n",
    "        layers.Dense(32, activation='relu', kernel_regularizer=regularizers.l2(0.003)),\n",
    "        layers.Dropout(0.4),\n",
    "        layers.Dense(1, activation='sigmoid')\n",
    "    ])\n",
    "\n",
    "    # Compile the model with a learning rate scheduler\n",
    "    model.compile(optimizer=tf.keras.optimizers.Adam(learning_rate=0.003),\n",
    "                  loss='binary_crossentropy',\n",
    "                  metrics=['accuracy'])\n",
    "\n",
    "    return model"
   ]
  },
  {
   "cell_type": "code",
   "execution_count": 76,
   "metadata": {},
   "outputs": [],
   "source": [
    "# Implement early stopping\n",
    "early_stopping = callbacks.EarlyStopping(monitor='val_loss', patience=10, restore_best_weights=True)"
   ]
  },
  {
   "cell_type": "code",
   "execution_count": 77,
   "metadata": {},
   "outputs": [],
   "source": [
    "# Implement learning rate scheduler\n",
    "lr_scheduler = callbacks.ReduceLROnPlateau(monitor='val_loss', factor=0.5, patience=5)"
   ]
  },
  {
   "cell_type": "code",
   "execution_count": 78,
   "metadata": {},
   "outputs": [
    {
     "name": "stdout",
     "output_type": "stream",
     "text": [
      "Epoch 1/100\n"
     ]
    },
    {
     "name": "stderr",
     "output_type": "stream",
     "text": [
      "c:\\Users\\tammy\\OneDrive\\Documents\\GitHub\\Deep-Learning-Challenge\\venv\\Lib\\site-packages\\keras\\src\\layers\\core\\dense.py:87: UserWarning: Do not pass an `input_shape`/`input_dim` argument to a layer. When using Sequential models, prefer using an `Input(shape)` object as the first layer in the model instead.\n",
      "  super().__init__(activity_regularizer=activity_regularizer, **kwargs)\n"
     ]
    },
    {
     "name": "stdout",
     "output_type": "stream",
     "text": [
      "638/638 - 4s - 6ms/step - accuracy: 0.6869 - loss: 0.8909 - val_accuracy: 0.7155 - val_loss: 0.6755 - learning_rate: 0.0030\n",
      "Epoch 2/100\n",
      "638/638 - 1s - 2ms/step - accuracy: 0.7134 - loss: 0.6552 - val_accuracy: 0.7124 - val_loss: 0.6129 - learning_rate: 0.0030\n",
      "Epoch 3/100\n",
      "638/638 - 1s - 2ms/step - accuracy: 0.7163 - loss: 0.6310 - val_accuracy: 0.7180 - val_loss: 0.6107 - learning_rate: 0.0030\n",
      "Epoch 4/100\n",
      "638/638 - 1s - 2ms/step - accuracy: 0.7150 - loss: 0.6337 - val_accuracy: 0.7200 - val_loss: 0.6221 - learning_rate: 0.0030\n",
      "Epoch 5/100\n",
      "638/638 - 1s - 2ms/step - accuracy: 0.7175 - loss: 0.6296 - val_accuracy: 0.7202 - val_loss: 0.6151 - learning_rate: 0.0030\n",
      "Epoch 6/100\n",
      "638/638 - 1s - 2ms/step - accuracy: 0.7148 - loss: 0.6275 - val_accuracy: 0.7145 - val_loss: 0.6094 - learning_rate: 0.0030\n",
      "Epoch 7/100\n",
      "638/638 - 1s - 2ms/step - accuracy: 0.7157 - loss: 0.6255 - val_accuracy: 0.7212 - val_loss: 0.6148 - learning_rate: 0.0030\n",
      "Epoch 8/100\n",
      "638/638 - 1s - 2ms/step - accuracy: 0.7175 - loss: 0.6217 - val_accuracy: 0.7143 - val_loss: 0.6088 - learning_rate: 0.0030\n",
      "Epoch 9/100\n",
      "638/638 - 2s - 3ms/step - accuracy: 0.7148 - loss: 0.6250 - val_accuracy: 0.7233 - val_loss: 0.6009 - learning_rate: 0.0030\n",
      "Epoch 10/100\n",
      "638/638 - 1s - 2ms/step - accuracy: 0.7179 - loss: 0.6201 - val_accuracy: 0.7216 - val_loss: 0.5981 - learning_rate: 0.0030\n",
      "Epoch 11/100\n",
      "638/638 - 1s - 2ms/step - accuracy: 0.7166 - loss: 0.6190 - val_accuracy: 0.7186 - val_loss: 0.6060 - learning_rate: 0.0030\n",
      "Epoch 12/100\n",
      "638/638 - 1s - 2ms/step - accuracy: 0.7128 - loss: 0.6218 - val_accuracy: 0.7243 - val_loss: 0.6032 - learning_rate: 0.0030\n",
      "Epoch 13/100\n",
      "638/638 - 1s - 2ms/step - accuracy: 0.7127 - loss: 0.6162 - val_accuracy: 0.7200 - val_loss: 0.5984 - learning_rate: 0.0030\n",
      "Epoch 14/100\n",
      "638/638 - 1s - 2ms/step - accuracy: 0.7134 - loss: 0.6183 - val_accuracy: 0.7233 - val_loss: 0.5975 - learning_rate: 0.0030\n",
      "Epoch 15/100\n",
      "638/638 - 1s - 2ms/step - accuracy: 0.7165 - loss: 0.6141 - val_accuracy: 0.7188 - val_loss: 0.5982 - learning_rate: 0.0030\n",
      "Epoch 16/100\n",
      "638/638 - 1s - 2ms/step - accuracy: 0.7167 - loss: 0.6119 - val_accuracy: 0.7167 - val_loss: 0.5931 - learning_rate: 0.0030\n",
      "Epoch 17/100\n",
      "638/638 - 1s - 2ms/step - accuracy: 0.7163 - loss: 0.6107 - val_accuracy: 0.7214 - val_loss: 0.5929 - learning_rate: 0.0030\n",
      "Epoch 18/100\n",
      "638/638 - 1s - 2ms/step - accuracy: 0.7159 - loss: 0.6118 - val_accuracy: 0.7229 - val_loss: 0.5889 - learning_rate: 0.0030\n",
      "Epoch 19/100\n",
      "638/638 - 1s - 2ms/step - accuracy: 0.7153 - loss: 0.6100 - val_accuracy: 0.7231 - val_loss: 0.5938 - learning_rate: 0.0030\n",
      "Epoch 20/100\n",
      "638/638 - 1s - 2ms/step - accuracy: 0.7169 - loss: 0.6094 - val_accuracy: 0.7149 - val_loss: 0.5963 - learning_rate: 0.0030\n",
      "Epoch 21/100\n",
      "638/638 - 1s - 2ms/step - accuracy: 0.7162 - loss: 0.6109 - val_accuracy: 0.7190 - val_loss: 0.5939 - learning_rate: 0.0030\n",
      "Epoch 22/100\n",
      "638/638 - 1s - 2ms/step - accuracy: 0.7158 - loss: 0.6082 - val_accuracy: 0.7225 - val_loss: 0.5857 - learning_rate: 0.0030\n",
      "Epoch 23/100\n",
      "638/638 - 1s - 2ms/step - accuracy: 0.7168 - loss: 0.6083 - val_accuracy: 0.7212 - val_loss: 0.5826 - learning_rate: 0.0030\n",
      "Epoch 24/100\n",
      "638/638 - 1s - 2ms/step - accuracy: 0.7158 - loss: 0.6069 - val_accuracy: 0.7231 - val_loss: 0.5933 - learning_rate: 0.0030\n",
      "Epoch 25/100\n",
      "638/638 - 1s - 2ms/step - accuracy: 0.7151 - loss: 0.6094 - val_accuracy: 0.7210 - val_loss: 0.5943 - learning_rate: 0.0030\n",
      "Epoch 26/100\n",
      "638/638 - 1s - 2ms/step - accuracy: 0.7140 - loss: 0.6097 - val_accuracy: 0.7216 - val_loss: 0.5885 - learning_rate: 0.0030\n",
      "Epoch 27/100\n",
      "638/638 - 1s - 2ms/step - accuracy: 0.7167 - loss: 0.6071 - val_accuracy: 0.7198 - val_loss: 0.5878 - learning_rate: 0.0030\n",
      "Epoch 28/100\n",
      "638/638 - 1s - 2ms/step - accuracy: 0.7173 - loss: 0.6082 - val_accuracy: 0.7237 - val_loss: 0.5930 - learning_rate: 0.0030\n",
      "Epoch 29/100\n",
      "638/638 - 1s - 2ms/step - accuracy: 0.7195 - loss: 0.5976 - val_accuracy: 0.7202 - val_loss: 0.5753 - learning_rate: 0.0015\n",
      "Epoch 30/100\n",
      "638/638 - 1s - 2ms/step - accuracy: 0.7172 - loss: 0.5979 - val_accuracy: 0.7227 - val_loss: 0.5754 - learning_rate: 0.0015\n",
      "Epoch 31/100\n",
      "638/638 - 1s - 2ms/step - accuracy: 0.7190 - loss: 0.5960 - val_accuracy: 0.7237 - val_loss: 0.5770 - learning_rate: 0.0015\n",
      "Epoch 32/100\n",
      "638/638 - 1s - 2ms/step - accuracy: 0.7186 - loss: 0.5937 - val_accuracy: 0.7237 - val_loss: 0.5739 - learning_rate: 0.0015\n",
      "Epoch 33/100\n",
      "638/638 - 1s - 2ms/step - accuracy: 0.7191 - loss: 0.5925 - val_accuracy: 0.7239 - val_loss: 0.5746 - learning_rate: 0.0015\n",
      "Epoch 34/100\n",
      "638/638 - 1s - 2ms/step - accuracy: 0.7186 - loss: 0.5929 - val_accuracy: 0.7202 - val_loss: 0.5765 - learning_rate: 0.0015\n",
      "Epoch 35/100\n",
      "638/638 - 1s - 2ms/step - accuracy: 0.7196 - loss: 0.5911 - val_accuracy: 0.7220 - val_loss: 0.5730 - learning_rate: 0.0015\n",
      "Epoch 36/100\n",
      "638/638 - 1s - 2ms/step - accuracy: 0.7197 - loss: 0.5904 - val_accuracy: 0.7224 - val_loss: 0.5746 - learning_rate: 0.0015\n",
      "Epoch 37/100\n",
      "638/638 - 1s - 2ms/step - accuracy: 0.7196 - loss: 0.5942 - val_accuracy: 0.7173 - val_loss: 0.5754 - learning_rate: 0.0015\n",
      "Epoch 38/100\n",
      "638/638 - 1s - 2ms/step - accuracy: 0.7188 - loss: 0.5931 - val_accuracy: 0.7237 - val_loss: 0.5767 - learning_rate: 0.0015\n",
      "Epoch 39/100\n",
      "638/638 - 1s - 2ms/step - accuracy: 0.7181 - loss: 0.5946 - val_accuracy: 0.7231 - val_loss: 0.5730 - learning_rate: 0.0015\n",
      "Epoch 40/100\n",
      "638/638 - 1s - 2ms/step - accuracy: 0.7193 - loss: 0.5930 - val_accuracy: 0.7210 - val_loss: 0.5755 - learning_rate: 0.0015\n",
      "Epoch 41/100\n",
      "638/638 - 1s - 2ms/step - accuracy: 0.7187 - loss: 0.5899 - val_accuracy: 0.7243 - val_loss: 0.5710 - learning_rate: 7.5000e-04\n",
      "Epoch 42/100\n",
      "638/638 - 1s - 2ms/step - accuracy: 0.7202 - loss: 0.5882 - val_accuracy: 0.7237 - val_loss: 0.5695 - learning_rate: 7.5000e-04\n",
      "Epoch 43/100\n",
      "638/638 - 1s - 2ms/step - accuracy: 0.7207 - loss: 0.5868 - val_accuracy: 0.7243 - val_loss: 0.5698 - learning_rate: 7.5000e-04\n",
      "Epoch 44/100\n",
      "638/638 - 1s - 2ms/step - accuracy: 0.7217 - loss: 0.5854 - val_accuracy: 0.7239 - val_loss: 0.5686 - learning_rate: 7.5000e-04\n",
      "Epoch 45/100\n",
      "638/638 - 1s - 2ms/step - accuracy: 0.7217 - loss: 0.5873 - val_accuracy: 0.7251 - val_loss: 0.5664 - learning_rate: 7.5000e-04\n",
      "Epoch 46/100\n",
      "638/638 - 1s - 2ms/step - accuracy: 0.7211 - loss: 0.5860 - val_accuracy: 0.7239 - val_loss: 0.5687 - learning_rate: 7.5000e-04\n",
      "Epoch 47/100\n",
      "638/638 - 1s - 2ms/step - accuracy: 0.7217 - loss: 0.5864 - val_accuracy: 0.7237 - val_loss: 0.5687 - learning_rate: 7.5000e-04\n",
      "Epoch 48/100\n",
      "638/638 - 1s - 2ms/step - accuracy: 0.7214 - loss: 0.5854 - val_accuracy: 0.7227 - val_loss: 0.5683 - learning_rate: 7.5000e-04\n",
      "Epoch 49/100\n",
      "638/638 - 1s - 2ms/step - accuracy: 0.7226 - loss: 0.5836 - val_accuracy: 0.7231 - val_loss: 0.5690 - learning_rate: 7.5000e-04\n",
      "Epoch 50/100\n",
      "638/638 - 1s - 2ms/step - accuracy: 0.7211 - loss: 0.5850 - val_accuracy: 0.7210 - val_loss: 0.5670 - learning_rate: 7.5000e-04\n",
      "Epoch 51/100\n",
      "638/638 - 1s - 2ms/step - accuracy: 0.7207 - loss: 0.5849 - val_accuracy: 0.7239 - val_loss: 0.5641 - learning_rate: 3.7500e-04\n",
      "Epoch 52/100\n",
      "638/638 - 1s - 2ms/step - accuracy: 0.7203 - loss: 0.5839 - val_accuracy: 0.7243 - val_loss: 0.5637 - learning_rate: 3.7500e-04\n",
      "Epoch 53/100\n",
      "638/638 - 1s - 2ms/step - accuracy: 0.7223 - loss: 0.5819 - val_accuracy: 0.7243 - val_loss: 0.5646 - learning_rate: 3.7500e-04\n",
      "Epoch 54/100\n",
      "638/638 - 1s - 2ms/step - accuracy: 0.7222 - loss: 0.5824 - val_accuracy: 0.7233 - val_loss: 0.5655 - learning_rate: 3.7500e-04\n",
      "Epoch 55/100\n",
      "638/638 - 1s - 2ms/step - accuracy: 0.7217 - loss: 0.5800 - val_accuracy: 0.7249 - val_loss: 0.5649 - learning_rate: 3.7500e-04\n",
      "Epoch 56/100\n",
      "638/638 - 2s - 2ms/step - accuracy: 0.7235 - loss: 0.5822 - val_accuracy: 0.7227 - val_loss: 0.5665 - learning_rate: 3.7500e-04\n",
      "Epoch 57/100\n",
      "638/638 - 1s - 2ms/step - accuracy: 0.7222 - loss: 0.5794 - val_accuracy: 0.7235 - val_loss: 0.5650 - learning_rate: 3.7500e-04\n",
      "Epoch 58/100\n",
      "638/638 - 1s - 2ms/step - accuracy: 0.7227 - loss: 0.5796 - val_accuracy: 0.7239 - val_loss: 0.5619 - learning_rate: 1.8750e-04\n",
      "Epoch 59/100\n",
      "638/638 - 1s - 2ms/step - accuracy: 0.7233 - loss: 0.5775 - val_accuracy: 0.7237 - val_loss: 0.5620 - learning_rate: 1.8750e-04\n",
      "Epoch 60/100\n",
      "638/638 - 1s - 2ms/step - accuracy: 0.7216 - loss: 0.5802 - val_accuracy: 0.7241 - val_loss: 0.5619 - learning_rate: 1.8750e-04\n",
      "Epoch 61/100\n",
      "638/638 - 1s - 2ms/step - accuracy: 0.7252 - loss: 0.5770 - val_accuracy: 0.7243 - val_loss: 0.5616 - learning_rate: 1.8750e-04\n",
      "Epoch 62/100\n",
      "638/638 - 1s - 2ms/step - accuracy: 0.7239 - loss: 0.5798 - val_accuracy: 0.7243 - val_loss: 0.5625 - learning_rate: 1.8750e-04\n",
      "Epoch 63/100\n",
      "638/638 - 1s - 2ms/step - accuracy: 0.7238 - loss: 0.5780 - val_accuracy: 0.7239 - val_loss: 0.5622 - learning_rate: 1.8750e-04\n",
      "Epoch 64/100\n",
      "638/638 - 1s - 2ms/step - accuracy: 0.7228 - loss: 0.5776 - val_accuracy: 0.7241 - val_loss: 0.5621 - learning_rate: 1.8750e-04\n",
      "Epoch 65/100\n",
      "638/638 - 1s - 2ms/step - accuracy: 0.7236 - loss: 0.5761 - val_accuracy: 0.7229 - val_loss: 0.5616 - learning_rate: 1.8750e-04\n",
      "Epoch 66/100\n",
      "638/638 - 1s - 2ms/step - accuracy: 0.7241 - loss: 0.5783 - val_accuracy: 0.7229 - val_loss: 0.5611 - learning_rate: 1.8750e-04\n",
      "Epoch 67/100\n",
      "638/638 - 1s - 2ms/step - accuracy: 0.7222 - loss: 0.5800 - val_accuracy: 0.7243 - val_loss: 0.5614 - learning_rate: 1.8750e-04\n",
      "Epoch 68/100\n",
      "638/638 - 1s - 2ms/step - accuracy: 0.7232 - loss: 0.5753 - val_accuracy: 0.7245 - val_loss: 0.5610 - learning_rate: 1.8750e-04\n",
      "Epoch 69/100\n",
      "638/638 - 1s - 2ms/step - accuracy: 0.7235 - loss: 0.5769 - val_accuracy: 0.7241 - val_loss: 0.5612 - learning_rate: 1.8750e-04\n",
      "Epoch 70/100\n",
      "638/638 - 1s - 2ms/step - accuracy: 0.7215 - loss: 0.5800 - val_accuracy: 0.7235 - val_loss: 0.5617 - learning_rate: 1.8750e-04\n",
      "Epoch 71/100\n",
      "638/638 - 1s - 2ms/step - accuracy: 0.7232 - loss: 0.5771 - val_accuracy: 0.7235 - val_loss: 0.5613 - learning_rate: 1.8750e-04\n",
      "Epoch 72/100\n",
      "638/638 - 1s - 2ms/step - accuracy: 0.7227 - loss: 0.5763 - val_accuracy: 0.7233 - val_loss: 0.5607 - learning_rate: 1.8750e-04\n",
      "Epoch 73/100\n",
      "638/638 - 1s - 2ms/step - accuracy: 0.7216 - loss: 0.5779 - val_accuracy: 0.7231 - val_loss: 0.5613 - learning_rate: 1.8750e-04\n",
      "Epoch 74/100\n",
      "638/638 - 1s - 2ms/step - accuracy: 0.7238 - loss: 0.5775 - val_accuracy: 0.7239 - val_loss: 0.5608 - learning_rate: 1.8750e-04\n",
      "Epoch 75/100\n",
      "638/638 - 1s - 2ms/step - accuracy: 0.7229 - loss: 0.5768 - val_accuracy: 0.7233 - val_loss: 0.5606 - learning_rate: 1.8750e-04\n",
      "Epoch 76/100\n",
      "638/638 - 1s - 2ms/step - accuracy: 0.7232 - loss: 0.5738 - val_accuracy: 0.7235 - val_loss: 0.5616 - learning_rate: 1.8750e-04\n",
      "Epoch 77/100\n",
      "638/638 - 1s - 2ms/step - accuracy: 0.7239 - loss: 0.5772 - val_accuracy: 0.7231 - val_loss: 0.5614 - learning_rate: 1.8750e-04\n",
      "Epoch 78/100\n",
      "638/638 - 1s - 2ms/step - accuracy: 0.7225 - loss: 0.5780 - val_accuracy: 0.7227 - val_loss: 0.5608 - learning_rate: 9.3750e-05\n",
      "Epoch 79/100\n",
      "638/638 - 1s - 2ms/step - accuracy: 0.7237 - loss: 0.5761 - val_accuracy: 0.7231 - val_loss: 0.5608 - learning_rate: 9.3750e-05\n",
      "Epoch 80/100\n",
      "638/638 - 1s - 2ms/step - accuracy: 0.7219 - loss: 0.5765 - val_accuracy: 0.7224 - val_loss: 0.5609 - learning_rate: 9.3750e-05\n",
      "Epoch 81/100\n",
      "638/638 - 1s - 2ms/step - accuracy: 0.7229 - loss: 0.5784 - val_accuracy: 0.7227 - val_loss: 0.5609 - learning_rate: 9.3750e-05\n",
      "Epoch 82/100\n",
      "638/638 - 1s - 2ms/step - accuracy: 0.7212 - loss: 0.5760 - val_accuracy: 0.7222 - val_loss: 0.5605 - learning_rate: 9.3750e-05\n",
      "Epoch 83/100\n",
      "638/638 - 1s - 2ms/step - accuracy: 0.7224 - loss: 0.5754 - val_accuracy: 0.7227 - val_loss: 0.5602 - learning_rate: 9.3750e-05\n",
      "Epoch 84/100\n",
      "638/638 - 1s - 2ms/step - accuracy: 0.7254 - loss: 0.5729 - val_accuracy: 0.7231 - val_loss: 0.5604 - learning_rate: 9.3750e-05\n",
      "Epoch 85/100\n",
      "638/638 - 1s - 2ms/step - accuracy: 0.7237 - loss: 0.5743 - val_accuracy: 0.7237 - val_loss: 0.5600 - learning_rate: 9.3750e-05\n",
      "Epoch 86/100\n",
      "638/638 - 1s - 2ms/step - accuracy: 0.7224 - loss: 0.5743 - val_accuracy: 0.7233 - val_loss: 0.5604 - learning_rate: 9.3750e-05\n",
      "Epoch 87/100\n",
      "638/638 - 1s - 2ms/step - accuracy: 0.7224 - loss: 0.5765 - val_accuracy: 0.7233 - val_loss: 0.5602 - learning_rate: 9.3750e-05\n",
      "Epoch 88/100\n",
      "638/638 - 1s - 2ms/step - accuracy: 0.7233 - loss: 0.5749 - val_accuracy: 0.7227 - val_loss: 0.5597 - learning_rate: 9.3750e-05\n",
      "Epoch 89/100\n",
      "638/638 - 1s - 2ms/step - accuracy: 0.7235 - loss: 0.5743 - val_accuracy: 0.7225 - val_loss: 0.5597 - learning_rate: 9.3750e-05\n",
      "Epoch 90/100\n",
      "638/638 - 1s - 2ms/step - accuracy: 0.7243 - loss: 0.5718 - val_accuracy: 0.7225 - val_loss: 0.5598 - learning_rate: 9.3750e-05\n",
      "Epoch 91/100\n",
      "638/638 - 1s - 2ms/step - accuracy: 0.7237 - loss: 0.5755 - val_accuracy: 0.7233 - val_loss: 0.5595 - learning_rate: 9.3750e-05\n",
      "Epoch 92/100\n",
      "638/638 - 1s - 2ms/step - accuracy: 0.7235 - loss: 0.5733 - val_accuracy: 0.7235 - val_loss: 0.5589 - learning_rate: 9.3750e-05\n",
      "Epoch 93/100\n",
      "638/638 - 1s - 2ms/step - accuracy: 0.7244 - loss: 0.5764 - val_accuracy: 0.7231 - val_loss: 0.5593 - learning_rate: 9.3750e-05\n",
      "Epoch 94/100\n",
      "638/638 - 1s - 2ms/step - accuracy: 0.7237 - loss: 0.5754 - val_accuracy: 0.7231 - val_loss: 0.5596 - learning_rate: 9.3750e-05\n",
      "Epoch 95/100\n",
      "638/638 - 1s - 2ms/step - accuracy: 0.7238 - loss: 0.5763 - val_accuracy: 0.7233 - val_loss: 0.5600 - learning_rate: 9.3750e-05\n",
      "Epoch 96/100\n",
      "638/638 - 1s - 2ms/step - accuracy: 0.7244 - loss: 0.5761 - val_accuracy: 0.7233 - val_loss: 0.5600 - learning_rate: 9.3750e-05\n",
      "Epoch 97/100\n",
      "638/638 - 1s - 2ms/step - accuracy: 0.7218 - loss: 0.5749 - val_accuracy: 0.7231 - val_loss: 0.5597 - learning_rate: 9.3750e-05\n",
      "Epoch 98/100\n",
      "638/638 - 1s - 2ms/step - accuracy: 0.7254 - loss: 0.5755 - val_accuracy: 0.7229 - val_loss: 0.5595 - learning_rate: 4.6875e-05\n",
      "Epoch 99/100\n",
      "638/638 - 1s - 2ms/step - accuracy: 0.7248 - loss: 0.5736 - val_accuracy: 0.7229 - val_loss: 0.5594 - learning_rate: 4.6875e-05\n",
      "Epoch 100/100\n",
      "638/638 - 1s - 2ms/step - accuracy: 0.7225 - loss: 0.5758 - val_accuracy: 0.7231 - val_loss: 0.5593 - learning_rate: 4.6875e-05\n",
      "Epoch 1/100\n"
     ]
    },
    {
     "name": "stderr",
     "output_type": "stream",
     "text": [
      "c:\\Users\\tammy\\OneDrive\\Documents\\GitHub\\Deep-Learning-Challenge\\venv\\Lib\\site-packages\\keras\\src\\layers\\core\\dense.py:87: UserWarning: Do not pass an `input_shape`/`input_dim` argument to a layer. When using Sequential models, prefer using an `Input(shape)` object as the first layer in the model instead.\n",
      "  super().__init__(activity_regularizer=activity_regularizer, **kwargs)\n"
     ]
    },
    {
     "name": "stdout",
     "output_type": "stream",
     "text": [
      "638/638 - 4s - 6ms/step - accuracy: 0.6901 - loss: 0.8828 - val_accuracy: 0.7168 - val_loss: 0.6792 - learning_rate: 0.0030\n",
      "Epoch 2/100\n",
      "638/638 - 2s - 3ms/step - accuracy: 0.7121 - loss: 0.6518 - val_accuracy: 0.7182 - val_loss: 0.6260 - learning_rate: 0.0030\n",
      "Epoch 3/100\n",
      "638/638 - 1s - 2ms/step - accuracy: 0.7116 - loss: 0.6327 - val_accuracy: 0.7227 - val_loss: 0.6168 - learning_rate: 0.0030\n",
      "Epoch 4/100\n",
      "638/638 - 1s - 2ms/step - accuracy: 0.7126 - loss: 0.6293 - val_accuracy: 0.7215 - val_loss: 0.6168 - learning_rate: 0.0030\n",
      "Epoch 5/100\n",
      "638/638 - 1s - 2ms/step - accuracy: 0.7136 - loss: 0.6301 - val_accuracy: 0.7109 - val_loss: 0.6213 - learning_rate: 0.0030\n",
      "Epoch 6/100\n",
      "638/638 - 1s - 2ms/step - accuracy: 0.7098 - loss: 0.6294 - val_accuracy: 0.7152 - val_loss: 0.6156 - learning_rate: 0.0030\n",
      "Epoch 7/100\n",
      "638/638 - 1s - 2ms/step - accuracy: 0.7135 - loss: 0.6257 - val_accuracy: 0.7137 - val_loss: 0.6185 - learning_rate: 0.0030\n",
      "Epoch 8/100\n",
      "638/638 - 1s - 2ms/step - accuracy: 0.7139 - loss: 0.6259 - val_accuracy: 0.7227 - val_loss: 0.6096 - learning_rate: 0.0030\n",
      "Epoch 9/100\n",
      "638/638 - 1s - 2ms/step - accuracy: 0.7121 - loss: 0.6228 - val_accuracy: 0.7268 - val_loss: 0.6060 - learning_rate: 0.0030\n",
      "Epoch 10/100\n",
      "638/638 - 1s - 2ms/step - accuracy: 0.7144 - loss: 0.6227 - val_accuracy: 0.7278 - val_loss: 0.6172 - learning_rate: 0.0030\n",
      "Epoch 1/100\n"
     ]
    },
    {
     "name": "stderr",
     "output_type": "stream",
     "text": [
      "c:\\Users\\tammy\\OneDrive\\Documents\\GitHub\\Deep-Learning-Challenge\\venv\\Lib\\site-packages\\keras\\src\\layers\\core\\dense.py:87: UserWarning: Do not pass an `input_shape`/`input_dim` argument to a layer. When using Sequential models, prefer using an `Input(shape)` object as the first layer in the model instead.\n",
      "  super().__init__(activity_regularizer=activity_regularizer, **kwargs)\n"
     ]
    },
    {
     "name": "stdout",
     "output_type": "stream",
     "text": [
      "638/638 - 4s - 6ms/step - accuracy: 0.6811 - loss: 0.9446 - val_accuracy: 0.7146 - val_loss: 0.7193 - learning_rate: 0.0030\n",
      "Epoch 2/100\n",
      "638/638 - 1s - 2ms/step - accuracy: 0.7151 - loss: 0.6677 - val_accuracy: 0.7115 - val_loss: 0.6359 - learning_rate: 0.0030\n",
      "Epoch 3/100\n",
      "638/638 - 1s - 2ms/step - accuracy: 0.7189 - loss: 0.6314 - val_accuracy: 0.7072 - val_loss: 0.6271 - learning_rate: 0.0030\n",
      "Epoch 4/100\n",
      "638/638 - 1s - 2ms/step - accuracy: 0.7147 - loss: 0.6273 - val_accuracy: 0.7117 - val_loss: 0.6266 - learning_rate: 0.0030\n",
      "Epoch 5/100\n",
      "638/638 - 1s - 2ms/step - accuracy: 0.7177 - loss: 0.6270 - val_accuracy: 0.7103 - val_loss: 0.6252 - learning_rate: 0.0030\n",
      "Epoch 6/100\n",
      "638/638 - 1s - 2ms/step - accuracy: 0.7149 - loss: 0.6262 - val_accuracy: 0.7099 - val_loss: 0.6211 - learning_rate: 0.0030\n",
      "Epoch 7/100\n",
      "638/638 - 1s - 2ms/step - accuracy: 0.7178 - loss: 0.6246 - val_accuracy: 0.7129 - val_loss: 0.6230 - learning_rate: 0.0030\n",
      "Epoch 8/100\n",
      "638/638 - 1s - 2ms/step - accuracy: 0.7154 - loss: 0.6230 - val_accuracy: 0.7058 - val_loss: 0.6172 - learning_rate: 0.0030\n",
      "Epoch 9/100\n",
      "638/638 - 1s - 2ms/step - accuracy: 0.7149 - loss: 0.6236 - val_accuracy: 0.7094 - val_loss: 0.6175 - learning_rate: 0.0030\n",
      "Epoch 10/100\n",
      "638/638 - 1s - 2ms/step - accuracy: 0.7164 - loss: 0.6185 - val_accuracy: 0.7109 - val_loss: 0.6174 - learning_rate: 0.0030\n",
      "Epoch 1/100\n"
     ]
    },
    {
     "name": "stderr",
     "output_type": "stream",
     "text": [
      "c:\\Users\\tammy\\OneDrive\\Documents\\GitHub\\Deep-Learning-Challenge\\venv\\Lib\\site-packages\\keras\\src\\layers\\core\\dense.py:87: UserWarning: Do not pass an `input_shape`/`input_dim` argument to a layer. When using Sequential models, prefer using an `Input(shape)` object as the first layer in the model instead.\n",
      "  super().__init__(activity_regularizer=activity_regularizer, **kwargs)\n"
     ]
    },
    {
     "name": "stdout",
     "output_type": "stream",
     "text": [
      "638/638 - 3s - 5ms/step - accuracy: 0.6807 - loss: 0.9191 - val_accuracy: 0.7164 - val_loss: 0.7084 - learning_rate: 0.0030\n",
      "Epoch 2/100\n",
      "638/638 - 1s - 2ms/step - accuracy: 0.7155 - loss: 0.6603 - val_accuracy: 0.7190 - val_loss: 0.6246 - learning_rate: 0.0030\n",
      "Epoch 3/100\n",
      "638/638 - 1s - 2ms/step - accuracy: 0.7151 - loss: 0.6352 - val_accuracy: 0.7227 - val_loss: 0.6139 - learning_rate: 0.0030\n",
      "Epoch 4/100\n",
      "638/638 - 1s - 2ms/step - accuracy: 0.7145 - loss: 0.6297 - val_accuracy: 0.7168 - val_loss: 0.6166 - learning_rate: 0.0030\n",
      "Epoch 5/100\n",
      "638/638 - 1s - 2ms/step - accuracy: 0.7147 - loss: 0.6294 - val_accuracy: 0.7213 - val_loss: 0.6139 - learning_rate: 0.0030\n",
      "Epoch 6/100\n",
      "638/638 - 1s - 2ms/step - accuracy: 0.7119 - loss: 0.6280 - val_accuracy: 0.7213 - val_loss: 0.6172 - learning_rate: 0.0030\n",
      "Epoch 7/100\n",
      "638/638 - 1s - 2ms/step - accuracy: 0.7116 - loss: 0.6277 - val_accuracy: 0.7178 - val_loss: 0.6109 - learning_rate: 0.0030\n",
      "Epoch 8/100\n",
      "638/638 - 1s - 2ms/step - accuracy: 0.7149 - loss: 0.6264 - val_accuracy: 0.7182 - val_loss: 0.6154 - learning_rate: 0.0030\n",
      "Epoch 9/100\n",
      "638/638 - 1s - 2ms/step - accuracy: 0.7154 - loss: 0.6210 - val_accuracy: 0.7223 - val_loss: 0.6134 - learning_rate: 0.0030\n",
      "Epoch 10/100\n",
      "638/638 - 1s - 2ms/step - accuracy: 0.7139 - loss: 0.6221 - val_accuracy: 0.7170 - val_loss: 0.6078 - learning_rate: 0.0030\n",
      "Epoch 1/100\n"
     ]
    },
    {
     "name": "stderr",
     "output_type": "stream",
     "text": [
      "c:\\Users\\tammy\\OneDrive\\Documents\\GitHub\\Deep-Learning-Challenge\\venv\\Lib\\site-packages\\keras\\src\\layers\\core\\dense.py:87: UserWarning: Do not pass an `input_shape`/`input_dim` argument to a layer. When using Sequential models, prefer using an `Input(shape)` object as the first layer in the model instead.\n",
      "  super().__init__(activity_regularizer=activity_regularizer, **kwargs)\n"
     ]
    },
    {
     "name": "stdout",
     "output_type": "stream",
     "text": [
      "638/638 - 4s - 6ms/step - accuracy: 0.6794 - loss: 0.9240 - val_accuracy: 0.7209 - val_loss: 0.6897 - learning_rate: 0.0030\n",
      "Epoch 2/100\n",
      "638/638 - 1s - 2ms/step - accuracy: 0.7139 - loss: 0.6592 - val_accuracy: 0.7245 - val_loss: 0.6127 - learning_rate: 0.0030\n",
      "Epoch 3/100\n",
      "638/638 - 1s - 2ms/step - accuracy: 0.7114 - loss: 0.6333 - val_accuracy: 0.7268 - val_loss: 0.6170 - learning_rate: 0.0030\n",
      "Epoch 4/100\n",
      "638/638 - 1s - 2ms/step - accuracy: 0.7135 - loss: 0.6309 - val_accuracy: 0.7233 - val_loss: 0.6020 - learning_rate: 0.0030\n",
      "Epoch 5/100\n",
      "638/638 - 1s - 2ms/step - accuracy: 0.7128 - loss: 0.6309 - val_accuracy: 0.7225 - val_loss: 0.6090 - learning_rate: 0.0030\n",
      "Epoch 6/100\n",
      "638/638 - 1s - 2ms/step - accuracy: 0.7113 - loss: 0.6306 - val_accuracy: 0.7211 - val_loss: 0.6165 - learning_rate: 0.0030\n",
      "Epoch 7/100\n",
      "638/638 - 1s - 2ms/step - accuracy: 0.7146 - loss: 0.6276 - val_accuracy: 0.7264 - val_loss: 0.6152 - learning_rate: 0.0030\n",
      "Epoch 8/100\n",
      "638/638 - 1s - 2ms/step - accuracy: 0.7137 - loss: 0.6281 - val_accuracy: 0.7262 - val_loss: 0.6050 - learning_rate: 0.0030\n",
      "Epoch 9/100\n",
      "638/638 - 1s - 2ms/step - accuracy: 0.7131 - loss: 0.6265 - val_accuracy: 0.7211 - val_loss: 0.6022 - learning_rate: 0.0030\n",
      "Epoch 10/100\n",
      "638/638 - 1s - 2ms/step - accuracy: 0.7182 - loss: 0.6086 - val_accuracy: 0.7258 - val_loss: 0.5895 - learning_rate: 0.0015\n"
     ]
    }
   ],
   "source": [
    "# K-Fold Cross-Validation\n",
    "kf = KFold(n_splits=5, shuffle=True, random_state=42)\n",
    "fold_no = 1\n",
    "val_accuracies = []\n",
    "\n",
    "for train_index, val_index in kf.split(X_resampled):\n",
    "    X_train_fold, X_val_fold = X_resampled[train_index], X_resampled[val_index]\n",
    "    y_train_fold, y_val_fold = y_resampled[train_index], y_resampled[val_index]\n",
    "\n",
    "    # Create a new model instance\n",
    "    model = create_model()\n",
    "\n",
    "    # Train the model with a modified batch size\n",
    "    history = model.fit(X_train_fold, y_train_fold,\n",
    "                        epochs=100,\n",
    "                        batch_size=32, \n",
    "                        validation_data=(X_val_fold, y_val_fold),\n",
    "                        callbacks=[early_stopping, lr_scheduler],\n",
    "                        verbose=2)"
   ]
  },
  {
   "cell_type": "code",
   "execution_count": 79,
   "metadata": {},
   "outputs": [
    {
     "name": "stdout",
     "output_type": "stream",
     "text": [
      "Fold 1 - Validation Accuracy: 0.7209256887435913\n"
     ]
    }
   ],
   "source": [
    "# Evaluate the model\n",
    "val_loss, val_accuracy = model.evaluate(X_val_fold, y_val_fold, verbose=0)\n",
    "print(f\"Fold {fold_no} - Validation Accuracy: {val_accuracy}\")\n",
    "val_accuracies.append(val_accuracy)\n",
    "fold_no += 1"
   ]
  },
  {
   "cell_type": "code",
   "execution_count": 80,
   "metadata": {},
   "outputs": [
    {
     "name": "stdout",
     "output_type": "stream",
     "text": [
      "Average Validation Accuracy: 0.7209256887435913\n"
     ]
    }
   ],
   "source": [
    "# Calculate average accuracy across folds\n",
    "average_val_accuracy = np.mean(val_accuracies)\n",
    "print(f\"Average Validation Accuracy: {average_val_accuracy}\")"
   ]
  },
  {
   "cell_type": "code",
   "execution_count": 81,
   "metadata": {},
   "outputs": [
    {
     "name": "stderr",
     "output_type": "stream",
     "text": [
      "WARNING:absl:You are saving your model as an HDF5 file via `model.save()` or `keras.saving.save_model(model)`. This file format is considered legacy. We recommend using instead the native Keras format, e.g. `model.save('my_model.keras')` or `keras.saving.save_model(model, 'my_model.keras')`. \n"
     ]
    }
   ],
   "source": [
    "# Export model to HDF5 file\n",
    "model.save('AlphabetSoup_OpExTrials_T5.h5')"
   ]
  }
 ],
 "metadata": {
  "kernelspec": {
   "display_name": "venv",
   "language": "python",
   "name": "python3"
  },
  "language_info": {
   "codemirror_mode": {
    "name": "ipython",
    "version": 3
   },
   "file_extension": ".py",
   "mimetype": "text/x-python",
   "name": "python",
   "nbconvert_exporter": "python",
   "pygments_lexer": "ipython3",
   "version": "3.11.1"
  }
 },
 "nbformat": 4,
 "nbformat_minor": 2
}
